{
 "cells": [
  {
   "cell_type": "markdown",
   "metadata": {},
   "source": [
    "### Have some data to play with"
   ]
  },
  {
   "cell_type": "code",
   "execution_count": 6,
   "metadata": {},
   "outputs": [
    {
     "name": "stdout",
     "output_type": "stream",
     "text": [
      "   id first_name  last_name                    email  age gender  postcode\n",
      "0   1       Jory  Colclough    jcolclough0@diigo.com   16      M      3956\n",
      "1   2     Culver    Aveline  caveline1@microsoft.com   96      M      3557\n",
      "2   3      Vance     Pridie     vpridie2@comsenz.com   87      M      3361\n"
     ]
    }
   ],
   "source": [
    "# Import some data and show what I mean\n",
    "import pandas\n",
    "df = pandas.read_csv('dummy_data.csv',sep=',')\n",
    "print(df.head(3))"
   ]
  },
  {
   "cell_type": "markdown",
   "metadata": {},
   "source": [
    "## Pandas - fix duplicate column header problem after group by\n",
    "\n",
    "It turns out Pandas tries to preserve your old indexes, and doesn't create new ones, unless you tell it to.\n",
    "\n",
    "There is probably some reason for that I'm yet to work out."
   ]
  },
  {
   "cell_type": "code",
   "execution_count": 9,
   "metadata": {},
   "outputs": [
    {
     "name": "stdout",
     "output_type": "stream",
     "text": [
      "gender  age\n",
      "F       10     46\n",
      "        11     41\n",
      "        12     48\n",
      "dtype: int64\n"
     ]
    }
   ],
   "source": [
    "groupby = df.groupby(['gender','age']).size()\n",
    "print(groupby.head(3))"
   ]
  },
  {
   "cell_type": "markdown",
   "metadata": {},
   "source": [
    "Below are three options to fix it:\n",
    "\n",
    "    1) tell it not to during the group by\n",
    "    2) tell it to reset indexes after the group by\n",
    "    3) tell it not to after the group by, but also name the column"
   ]
  },
  {
   "cell_type": "markdown",
   "metadata": {},
   "source": [
    "### 1)"
   ]
  },
  {
   "cell_type": "code",
   "execution_count": 15,
   "metadata": {},
   "outputs": [
    {
     "name": "stdout",
     "output_type": "stream",
     "text": [
      "gender  age\n",
      "F       10     46\n",
      "        11     41\n",
      "        12     48\n",
      "dtype: int64\n"
     ]
    }
   ],
   "source": [
    "groupby = df.groupby(['gender','age'],as_index=False).size()\n",
    "print(groupby.head(3))"
   ]
  },
  {
   "cell_type": "markdown",
   "metadata": {},
   "source": [
    "### 2)"
   ]
  },
  {
   "cell_type": "code",
   "execution_count": 16,
   "metadata": {},
   "outputs": [
    {
     "name": "stdout",
     "output_type": "stream",
     "text": [
      "gender  age\n",
      "F       10     46\n",
      "        11     41\n",
      "        12     48\n",
      "dtype: int64\n"
     ]
    }
   ],
   "source": [
    "groupby =  df.groupby(['gender','age']).size()\n",
    "groupby.reset_index()\n",
    "print(groupby.head(3))"
   ]
  },
  {
   "cell_type": "markdown",
   "metadata": {},
   "source": [
    "### 3)"
   ]
  },
  {
   "cell_type": "code",
   "execution_count": 17,
   "metadata": {},
   "outputs": [
    {
     "name": "stdout",
     "output_type": "stream",
     "text": [
      "  gender  age  count\n",
      "0      F   10     46\n",
      "1      F   11     41\n",
      "2      F   12     48\n"
     ]
    }
   ],
   "source": [
    "# reset index, and name the new column count\n",
    "groupby =  df.groupby(['gender','age']).size().reset_index(name=\"count\")\n",
    "print(groupby.head(3))"
   ]
  }
 ],
 "metadata": {
  "kernelspec": {
   "display_name": "Python 3",
   "language": "python",
   "name": "python3"
  },
  "language_info": {
   "codemirror_mode": {
    "name": "ipython",
    "version": 3
   },
   "file_extension": ".py",
   "mimetype": "text/x-python",
   "name": "python",
   "nbconvert_exporter": "python",
   "pygments_lexer": "ipython3",
   "version": "3.6.1"
  }
 },
 "nbformat": 4,
 "nbformat_minor": 2
}
